{
 "cells": [
  {
   "cell_type": "markdown",
   "metadata": {},
   "source": [
    "Loading libraries"
   ]
  },
  {
   "cell_type": "code",
   "execution_count": 5,
   "metadata": {},
   "outputs": [],
   "source": [
    "import numpy as np\n",
    "from sklearn.decomposition import PCA\n",
    "from sklearn import datasets\n",
    "import matplotlib\n",
    "import matplotlib.pyplot as plt\n",
    "%matplotlib inline\n",
    "import pandas as pd"
   ]
  },
  {
   "cell_type": "code",
   "execution_count": 7,
   "metadata": {},
   "outputs": [
    {
     "name": "stdout",
     "output_type": "stream",
     "text": [
      "            0          1          2          3          4          5  \\\n",
      "0  -21.268772   5.658494  15.694725 -21.573510  -0.105075  13.976255   \n",
      "1  -21.896195   3.149057  14.521728 -22.465232  -1.900296  12.834018   \n",
      "2  -20.993592   6.066762  15.965096 -23.837587  -3.383199  16.203912   \n",
      "3   19.398259  21.924278  17.982045   1.779974 -12.822293 -24.046872   \n",
      "4  -21.026319  23.054265 -19.370971 -10.060180 -19.241204 -15.206898   \n",
      "5  -22.450642  -9.693879  -5.095911  11.043118  21.141724  -5.555858   \n",
      "6  -14.855272   7.695260 -15.767561 -18.401784   1.249840 -18.819503   \n",
      "7  -23.989792  -7.493153  -4.840099  14.789728  22.788921 -10.501291   \n",
      "8  -23.969745  -6.834438  -8.642727  11.700804  21.936661  -7.113352   \n",
      "9  -17.588220   4.727917 -14.150823 -19.867924  -0.009068 -19.792233   \n",
      "10 -23.749772  22.437467 -19.279528  -9.065019 -20.646747 -13.516897   \n",
      "11   3.871252   2.085438  11.785910  11.042868   7.919648  -5.188986   \n",
      "12 -14.079746   8.288765 -14.531155 -18.558058  -0.758978 -19.686012   \n",
      "13   3.997348   4.189043  10.982631  10.633176   7.981255  -4.936779   \n",
      "14 -20.228112  24.700014 -17.532379  -8.679614 -21.671958 -12.132796   \n",
      "15 -23.630544  -8.454443  -5.634979  14.273429  23.394042  -9.636295   \n",
      "16 -20.943018   7.535547  14.623203 -23.957917  -2.630591  14.287459   \n",
      "17   2.836893   3.324695  13.934358   9.218563   6.547255  -2.315725   \n",
      "18 -20.188541   4.364673  11.840233 -22.231334  -0.422792  16.075490   \n",
      "19 -24.890169   7.409544  13.889917 -24.697737  -2.099474  13.559777   \n",
      "20 -19.896544  22.782517 -17.378096  -7.900194 -21.585470 -15.021571   \n",
      "21  20.958600  23.967837  17.543387   2.938154 -12.828814 -25.858301   \n",
      "22 -15.077390   8.485336 -13.068349 -18.928089   4.158518 -19.179895   \n",
      "23 -12.703413   9.122298 -13.599484 -17.468426   3.139667 -20.470910   \n",
      "24 -21.819605  23.804400 -17.796600  -9.662364 -17.724650 -13.541139   \n",
      "25 -22.973369  -8.277220  -2.809933  13.425671  23.177779 -10.038318   \n",
      "26 -22.008258  26.562113 -20.659026  -9.014565 -21.237696 -14.275469   \n",
      "27  19.742194  21.625813  18.461799   0.160595 -12.619242 -26.427560   \n",
      "28  18.798138  27.156405  18.168194   1.263465 -12.082789 -23.968992   \n",
      "29 -13.065928   6.463237 -13.820932 -17.425421   0.372217 -19.316737   \n",
      "30  -0.508522   3.367667  11.132896   8.859313   6.028438  -3.806476   \n",
      "31  17.841263  22.342999  17.602403  -0.542220 -16.956403 -22.699035   \n",
      "32 -20.663685  -7.140648  -5.061697  12.222552  22.344778  -8.728177   \n",
      "33   2.676700  -1.482423  12.548299  11.327691   4.656352  -5.111451   \n",
      "34 -19.437640   5.662999  13.204284 -20.278787  -2.169339  12.639665   \n",
      "35   3.906940   2.833058  13.701676  10.482554   6.249665  -5.396623   \n",
      "36  21.224515  24.936174  13.757347   3.252085 -16.168283 -27.098729   \n",
      "37 -20.065241  24.254688 -22.228970  -7.831165 -21.070336 -14.788146   \n",
      "38 -18.639787  24.248755 -18.686898  -8.362543 -23.693780 -11.507464   \n",
      "39 -25.026276  -8.199928  -4.807166  15.423326  20.798222  -6.874835   \n",
      "40 -20.345740   4.661720  12.377093 -25.190084  -0.184692  13.585869   \n",
      "41 -24.422158  23.859033 -19.495700  -9.110666 -25.482039 -13.791864   \n",
      "42 -24.730157  -3.544436  -6.501682  10.452084  21.267471  -7.327156   \n",
      "43 -25.723885  -7.427564  -4.871367  15.037225  22.389968  -7.596277   \n",
      "44  16.707020  22.423944  20.471788   5.339820 -16.124406 -23.822498   \n",
      "45  18.399463  20.802310  16.644101   2.179147 -13.946786 -26.764863   \n",
      "46   1.402230   1.384980  13.155764   7.098554   6.133724  -3.764982   \n",
      "47 -15.419044   6.049271 -13.524642 -16.252458   1.273135 -19.886978   \n",
      "48 -14.450107   5.441579 -13.064379 -19.083345   2.280788 -21.390679   \n",
      "49 -23.387340  -7.403679  -7.427952  12.396036  22.481686  -9.725043   \n",
      "50   2.734496   5.268205  14.592639  10.244727   3.030521  -4.185864   \n",
      "51  18.331753  20.598416  22.168493   1.322500 -13.190110 -22.434414   \n",
      "52   1.899878   0.807236  12.950626  10.870714   4.301445  -2.255497   \n",
      "53 -18.426880   7.120366  12.151425 -24.244229  -2.713575  17.334355   \n",
      "54 -19.559746   3.740909  14.995982 -24.277610  -0.823516  14.469451   \n",
      "55 -19.123822  23.113801 -21.725129  -9.377515 -21.252909 -12.714188   \n",
      "56 -18.205112   7.480647 -14.079435 -15.808455   1.230527 -20.647713   \n",
      "57 -15.051762   3.949536 -13.356996 -15.226593   3.175194 -19.040298   \n",
      "58   3.160010  -1.592956  13.978010  10.907064   8.014484  -1.608149   \n",
      "59  17.454278  20.962157  18.955715   3.380219 -13.219326 -21.614837   \n",
      "\n",
      "            6          7          8          9  \n",
      "0   24.497833   5.462243 -22.654869  -2.512159  \n",
      "1   26.021821   6.668081 -25.535029  -0.861294  \n",
      "2   24.224095   5.507131 -25.219089  -4.275716  \n",
      "3   -1.337472  -3.491556   0.367888  -1.337761  \n",
      "4   -5.533422  20.489154  -9.172018  23.712057  \n",
      "5   -0.891651 -11.464322  14.254194   8.338259  \n",
      "6    9.123466  20.539531  23.505826  -6.684923  \n",
      "7   -3.267476 -12.051774  15.206939   6.306451  \n",
      "8   -4.265291 -11.003386  16.803376   5.867556  \n",
      "9   13.582862  20.613472  22.449279  -4.503489  \n",
      "10  -8.232605  21.275363  -6.026806  22.671135  \n",
      "11 -12.847603  23.850718  -9.638149 -14.611282  \n",
      "12  14.593162  24.166395  23.652590  -4.090538  \n",
      "13  -7.643834  21.780424  -9.296629 -11.790105  \n",
      "14  -7.260776  18.857380  -6.974066  24.492946  \n",
      "15  -2.964022 -12.673550  16.301801   7.351632  \n",
      "16  24.386162   3.405197 -23.681591  -3.626853  \n",
      "17 -11.617455  24.254521  -6.425499 -12.595792  \n",
      "18  26.212782   5.993036 -22.918749  -0.923770  \n",
      "19  23.332822   5.530141 -23.128799  -3.850657  \n",
      "20  -4.051018  20.726799  -9.198714  23.439232  \n",
      "21  -3.248667  -4.881480   1.636268  -0.518211  \n",
      "22  15.774354  22.664591  24.753686  -4.917494  \n",
      "23   6.218732  20.076473  21.989242  -5.562834  \n",
      "24  -7.033974  19.719296  -5.644928  24.464313  \n",
      "25  -2.980413 -12.252724  16.954449   5.040101  \n",
      "26  -3.371490  19.706285  -8.478149  25.382484  \n",
      "27  -6.762415  -5.536540   4.951364   0.644712  \n",
      "28  -3.584922  -5.585703   1.035575   0.498506  \n",
      "29  11.192666  23.599625  21.965384  -5.860159  \n",
      "30  -9.732002  23.439437  -8.791686 -15.851776  \n",
      "31  -0.944417  -4.546754   0.831310  -0.330943  \n",
      "32  -3.387963 -10.900865  12.993806   2.634654  \n",
      "33  -9.444388  27.657176  -7.393661 -13.073456  \n",
      "34  26.082506   6.407522 -22.177882  -1.857954  \n",
      "35 -11.525329  24.580394 -10.096021 -15.033371  \n",
      "36  -3.284915  -6.908959   3.464684  -0.034962  \n",
      "37  -3.596408  21.406155  -8.532826  22.022623  \n",
      "38  -5.785601  20.779575  -8.945964  22.197641  \n",
      "39  -4.505385  -8.438762  14.680060   5.027001  \n",
      "40  26.446150   4.404931 -25.722280  -5.160370  \n",
      "41  -7.214660  19.204497  -4.417500  24.188430  \n",
      "42  -2.681162 -12.805511  16.573960  10.245842  \n",
      "43  -5.047382  -9.252883  13.755112   3.933044  \n",
      "44  -1.028108  -5.216541   0.267035   0.782853  \n",
      "45  -5.635373  -3.459041  -1.156065   0.624895  \n",
      "46 -10.917703  21.734708  -9.175746 -15.206652  \n",
      "47  11.668249  21.645665  24.912619  -4.456836  \n",
      "48   9.602952  22.211034  20.766318  -8.758883  \n",
      "49  -4.381207 -10.337255  15.896825   5.421933  \n",
      "50 -10.345340  23.120978  -8.274060 -11.602782  \n",
      "51  -3.312167  -4.559213   1.777339  -2.807309  \n",
      "52  -8.609549  23.330509  -8.118548 -11.886662  \n",
      "53  21.937635   5.081536 -22.700123  -3.598899  \n",
      "54  28.266193   4.997799 -24.362036  -4.704970  \n",
      "55  -5.934263  22.746001  -8.468459  24.519704  \n",
      "56  11.227509  20.068266  21.906826  -4.093304  \n",
      "57  12.124458  22.756692  23.078239  -2.700601  \n",
      "58 -12.713621  24.555316  -9.533933 -14.842774  \n",
      "59  -2.675888  -3.684892   0.674622  -0.513449  \n"
     ]
    }
   ],
   "source": [
    "df = pd.read_csv('8_36.csv', header=None)"
   ]
  },
  {
   "cell_type": "code",
   "execution_count": 22,
   "metadata": {},
   "outputs": [
    {
     "data": {
      "text/plain": [
       "[-21.268771522646983,\n",
       " 5.658494067717603,\n",
       " 15.694724917706804,\n",
       " -21.573510479414352,\n",
       " -0.10507471777255085,\n",
       " 13.976255292425945,\n",
       " 24.497832569185732,\n",
       " 5.462242932686971,\n",
       " -22.65486877589,\n",
       " -2.5121591442132583]"
      ]
     },
     "execution_count": 22,
     "metadata": {},
     "output_type": "execute_result"
    }
   ],
   "source": [
    "X = df.values.tolist()\n",
    "X[0]"
   ]
  },
  {
   "cell_type": "code",
   "execution_count": 32,
   "metadata": {},
   "outputs": [],
   "source": [
    "pca = PCA(n_components=2, svd_solver='full') #Создание объекта класса PCA. В качестве параметров выступает количество ГК и метод оптимизации\n",
    "X_transformed = pca.fit(X).transform(X) #X_transformed -- ndarray объектов, где каждый объект описывается двумя ГК"
   ]
  },
  {
   "cell_type": "code",
   "execution_count": 34,
   "metadata": {},
   "outputs": [
    {
     "name": "stdout",
     "output_type": "stream",
     "text": [
      "33.15200528350051 -22.021693711750856\n",
      "[ 33.15200528 -22.02169371]\n"
     ]
    }
   ],
   "source": [
    "print(X_transformed[0])"
   ]
  },
  {
   "cell_type": "markdown",
   "metadata": {},
   "source": [
    "33.15200528 координата первого объекта относительно первой главной компоненты.\n",
    "\n",
    "-22.02169371 координату первого объекта относительно второй главной компоненты."
   ]
  },
  {
   "cell_type": "markdown",
   "metadata": {},
   "source": [
    "Доля объясненной дисперсии при использовании первых двух главных компонент."
   ]
  },
  {
   "cell_type": "code",
   "execution_count": 33,
   "metadata": {},
   "outputs": [
    {
     "data": {
      "text/plain": [
       "array([0.273, 0.535])"
      ]
     },
     "execution_count": 33,
     "metadata": {},
     "output_type": "execute_result"
    }
   ],
   "source": [
    "explained_variance = np.round(np.cumsum(pca.explained_variance_ratio_),3)\n",
    "explained_variance"
   ]
  },
  {
   "cell_type": "markdown",
   "metadata": {},
   "source": [
    "Какое количество групп объектов можно выделить, если использовать только первые две главных компоненты?"
   ]
  },
  {
   "cell_type": "code",
   "execution_count": 35,
   "metadata": {},
   "outputs": [
    {
     "data": {
      "text/plain": [
       "[<matplotlib.lines.Line2D at 0x1d8119e07c8>]"
      ]
     },
     "execution_count": 35,
     "metadata": {},
     "output_type": "execute_result"
    },
    {
     "data": {
      "image/png": "[encoded data removed]",
      "text/plain": [
       "<Figure size 432x288 with 1 Axes>"
      ]
     },
     "metadata": {
      "needs_background": "light"
     },
     "output_type": "display_data"
    }
   ],
   "source": [
    "plt.plot(X_transformed[:49, 0], X_transformed[:49, 1], 'o', markerfacecolor='red', markeredgecolor='k', markersize=8)"
   ]
  }
 ],
 "metadata": {
  "kernelspec": {
   "display_name": "Python 3",
   "language": "python",
   "name": "python3"
  },
  "language_info": {
   "codemirror_mode": {
    "name": "ipython",
    "version": 3
   },
   "file_extension": ".py",
   "mimetype": "text/x-python",
   "name": "python",
   "nbconvert_exporter": "python",
   "pygments_lexer": "ipython3",
   "version": "3.7.4"
  }
 },
 "nbformat": 4,
 "nbformat_minor": 2
}
